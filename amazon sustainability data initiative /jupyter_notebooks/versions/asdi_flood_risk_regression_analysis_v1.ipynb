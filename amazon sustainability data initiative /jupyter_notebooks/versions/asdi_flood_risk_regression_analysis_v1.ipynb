{
  "nbformat": 4,
  "nbformat_minor": 0,
  "metadata": {
    "colab": {
      "name": "asdi_flood_risk_regression_analysis_v1.ipynb",
      "provenance": [],
      "collapsed_sections": [
        "jiVrbHymYuhq",
        "d_Pk-kwKY2ig",
        "4zOU2OPaY4Xk",
        "nx8KM-uyY7V8"
      ]
    },
    "kernelspec": {
      "name": "python3",
      "display_name": "Python 3"
    },
    "language_info": {
      "name": "python"
    }
  },
  "cells": [
    {
      "cell_type": "markdown",
      "source": [
        "###Goal\n",
        "  - To determine which are the most relevant flood risk factors as given by First Street Foundation Flood Risk Summary Statistics."
      ],
      "metadata": {
        "id": "w6cpekM0XxHk"
      }
    },
    {
      "cell_type": "markdown",
      "source": [
        "###Import Libraries"
      ],
      "metadata": {
        "id": "jiVrbHymYuhq"
      }
    },
    {
      "cell_type": "code",
      "source": [
        "import pandas as pd\n",
        "import matplotlib.pyplot as plt\n",
        "import numpy as np\n",
        "import sagemaker \n",
        "import boto3\n",
        "from sagemaker.session import s3_input, Session"
      ],
      "metadata": {
        "id": "f0OmDpxjZWYR"
      },
      "execution_count": null,
      "outputs": []
    },
    {
      "cell_type": "markdown",
      "source": [
        "###Create S3 Buckets"
      ],
      "metadata": {
        "id": "d_Pk-kwKY2ig"
      }
    },
    {
      "cell_type": "code",
      "source": [
        "bucket = ''\n",
        "bucket_region = boto3.session.Session().region_name\n",
        "print(bucket_region)"
      ],
      "metadata": {
        "id": "XhJwV8zKZeqi"
      },
      "execution_count": null,
      "outputs": []
    },
    {
      "cell_type": "code",
      "source": [
        "s3 = boto3.resource('s3')\n",
        "try: \n",
        "    if  bucket_region == 'us-east-1':\n",
        "        s3.create_bucket(Bucket=bucket)\n",
        "    print('S3 bucket successfully created')\n",
        "except Exception as e:\n",
        "    print('S3 error: ',e)"
      ],
      "metadata": {
        "id": "Ni63YjrfZfK3"
      },
      "execution_count": null,
      "outputs": []
    },
    {
      "cell_type": "code",
      "source": [
        "#setting output path for the trained model\n",
        "\n",
        "prefix = ''\n",
        "output_path = 's3://{}/{}/output'.format(bucket, prefix)\n",
        "print(output_path)"
      ],
      "metadata": {
        "id": "xWj8neFqZman"
      },
      "execution_count": null,
      "outputs": []
    },
    {
      "cell_type": "code",
      "source": [
        "bucket = ''\n",
        "data_key = ''\n",
        "data_location = 's3://{}/{}'.format(bucket, data_key)\n",
        "\n",
        "raw_flood_catalog = pd.read_csv(data_location)"
      ],
      "metadata": {
        "id": "ItkXtDx5Zmhp"
      },
      "execution_count": null,
      "outputs": []
    },
    {
      "cell_type": "markdown",
      "source": [
        "###Feature Engineering"
      ],
      "metadata": {
        "id": "4zOU2OPaY4Xk"
      }
    },
    {
      "cell_type": "code",
      "source": [
        "#location of data"
      ],
      "metadata": {
        "id": "twjRd8LbZ32W"
      },
      "execution_count": null,
      "outputs": []
    },
    {
      "cell_type": "code",
      "source": [
        "#description of data"
      ],
      "metadata": {
        "id": "EN1luxMxZ37Y"
      },
      "execution_count": null,
      "outputs": []
    },
    {
      "cell_type": "code",
      "source": [
        "#feature selection"
      ],
      "metadata": {
        "id": "tY5__ij8Z3_V"
      },
      "execution_count": null,
      "outputs": []
    },
    {
      "cell_type": "code",
      "source": [
        "#one hot encoding"
      ],
      "metadata": {
        "id": "VLOKoUiZZ6zt"
      },
      "execution_count": null,
      "outputs": []
    },
    {
      "cell_type": "markdown",
      "source": [
        "###Import/Read Data"
      ],
      "metadata": {
        "id": "nx8KM-uyY7V8"
      }
    },
    {
      "cell_type": "code",
      "source": [
        "#import the csv data\n"
      ],
      "metadata": {
        "id": "o1-YkN03aJqc"
      },
      "execution_count": null,
      "outputs": []
    },
    {
      "cell_type": "code",
      "source": [
        "#feature selection\n"
      ],
      "metadata": {
        "id": "JDMVQszZaJ-B"
      },
      "execution_count": null,
      "outputs": []
    },
    {
      "cell_type": "code",
      "source": [
        "#one hot encoding\n"
      ],
      "metadata": {
        "id": "D5ZQ5YnxaKDA"
      },
      "execution_count": null,
      "outputs": []
    },
    {
      "cell_type": "markdown",
      "source": [
        "###Create Training and Test Data"
      ],
      "metadata": {
        "id": "6hHAmyi1Y-A3"
      }
    },
    {
      "cell_type": "markdown",
      "source": [
        "###Model"
      ],
      "metadata": {
        "id": "E_VotJycZAi4"
      }
    },
    {
      "cell_type": "markdown",
      "source": [
        "###Evaluation"
      ],
      "metadata": {
        "id": "z2Vjrf-HZCzg"
      }
    }
  ]
}